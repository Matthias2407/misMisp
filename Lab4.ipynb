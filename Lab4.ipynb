{
 "cells": [
  {
   "cell_type": "code",
   "execution_count": 4,
   "metadata": {},
   "outputs": [
    {
     "name": "stdout",
     "output_type": "stream",
     "text": [
      "Ilosc_okien_aluminiowych = 2\n",
      "Ilosc_okien_drewnianych = 6\n",
      "Końcowy zysk wyniesie: 36000\n"
     ]
    }
   ],
   "source": [
    "from pulp import *\n",
    "import pandas as pd\n",
    "\n",
    "#utworzenie problemu\n",
    "prob = LpProblem(\"WindowProblem\",LpMaximize)\n",
    "#zmienne\n",
    "alu=LpVariable(\"Ilosc okien aluminiowych\", 0, None, \"Integer\") #musimy wyprodukować dodatnią ilosć okien i musi być to liczba całkowita\n",
    "drew=LpVariable(\"Ilosc okien drewnianych\", 0, None, \"Integer\")\n",
    "#cel\n",
    "prob+=3000*alu+5000*drew\n",
    "#ograniczenia\n",
    "prob+=1*alu<=4\n",
    "prob+=2*drew<=12\n",
    "prob+=3*alu+2*drew<=18\n",
    "#rozwiązanie\n",
    "prob.writeLP(\"Okna.lp\")\n",
    "prob.solve()\n",
    "#Wyswietlenie wyników\n",
    "for v in prob.variables():\n",
    "    print(v.name, \"=\", v.varValue)\n",
    "print(\"Końcowy zysk wyniesie: \"+str(value(prob.objective)))"
   ]
  },
  {
   "cell_type": "code",
   "execution_count": 3,
   "metadata": {},
   "outputs": [
    {
     "data": {
      "application/vnd.jupyter.widget-view+json": {
       "model_id": "c512e97104d143f5b305a7fee9afa607",
       "version_major": 2,
       "version_minor": 0
      },
      "text/plain": [
       "interactive(children=(FloatSlider(value=3000.0, description='zysk_aluminiowe', max=10000.0, style=SliderStyle(…"
      ]
     },
     "metadata": {},
     "output_type": "display_data"
    },
    {
     "data": {
      "text/plain": [
       "<function __main__.produkcja_okien(zysk_alu=3000, zysk_drew=5000, dostepnosc_f1=4, dostepnosc_f2=12, dostepnosc_f3=18)>"
      ]
     },
     "execution_count": 3,
     "metadata": {},
     "output_type": "execute_result"
    }
   ],
   "source": [
    "#czesc druga\n",
    "from pulp import *\n",
    "from __future__ import print_function\n",
    "from ipywidgets import interact, interactive, fixed, interact_manual, Layout, FloatSlider, IntSlider\n",
    "import ipywidgets as widgets\n",
    "import pandas as pd\n",
    "\n",
    "style = {'description_width': 'initial'}\n",
    "#tworzenie sliderów\n",
    "zysk_alu_slider = FloatSlider(min=0,max = 10000, value= 3000, description=\"zysk_aluminiowe\", style= style )\n",
    "zysk_drew_slider = FloatSlider(min=0,max = 10000, value= 5000, description=\"zysk_drewniane\", style= style )\n",
    "dostepnosc_f1_slider=IntSlider(min=0,max = 40, value= 4, description=\"dostepnosc_f1\", style= style )\n",
    "dostepnosc_f2_slider=IntSlider(min=0,max = 40, value= 12, description=\"dostepnosc_f2\", style= style )\n",
    "dostepnosc_f3_slider=IntSlider(min=0,max = 40, value= 18, description=\"dostepnosc_f3\", style= style )\n",
    "\n",
    "def produkcja_okien(\n",
    "    zysk_alu=3000,\n",
    "    zysk_drew=5000,\n",
    "    dostepnosc_f1=4,\n",
    "    dostepnosc_f2=12,\n",
    "    dostepnosc_f3=18):\n",
    "    #utworzenie problemu\n",
    "    prob = LpProblem(\"WindowProblem\",LpMaximize)\n",
    "    #zmienne\n",
    "    alu=LpVariable(\"Ilosc okien aluminiowych\", 0, None, \"Integer\") #musimy wyprodukować dodatnią ilosć okien i musi być to liczba całkowita\n",
    "    drew=LpVariable(\"Ilosc okien drewnianych\", 0, None, \"Integer\")\n",
    "    #cel\n",
    "    prob+=zysk_alu*alu+zysk_drew*drew\n",
    "    #ograniczenia\n",
    "    prob+=1*alu<=dostepnosc_f1,\"Dostepnosc_fabryki_1\"\n",
    "    prob+=2*drew<=dostepnosc_f2,\"Dostepnosc_fabryki_2\"\n",
    "    prob+=3*alu+2*drew<=dostepnosc_f3,\"Dostepnosc_fabryki_3\"\n",
    "    #rozwiązanie\n",
    "    prob.writeLP(\"Okna.lp\")\n",
    "    prob.solve()\n",
    "    print(\"Status:\", LpStatus[prob.status])\n",
    "    #Wyswietlenie wyników\n",
    "    for v in prob.variables():\n",
    "        print(v.name, \"=\", v.varValue)\n",
    "    print(\"Końcowy zysk wyniesie: \"+str(value(prob.objective)))\n",
    "    \n",
    "    shadows = [{'name':name, 'shadow price': c.pi, \"slack\": c.slack} for name, c in prob.constraints.items()]\n",
    "    print(\"*\"*10+\"Shadow Prices\"+\"*\"*10)\n",
    "    print(pd.DataFrame(shadows))\n",
    "\n",
    "interact(produkcja_okien, zysk_alu=zysk_alu_slider, zysk_drew=zysk_drew_slider, dostepnosc_f1=dostepnosc_f1_slider, dostepnosc_f2=dostepnosc_f2_slider, dostepnosc_f3=dostepnosc_f3_slider)"
   ]
  },
  {
   "cell_type": "code",
   "execution_count": 39,
   "metadata": {},
   "outputs": [
    {
     "ename": "NameError",
     "evalue": "name 'c1' is not defined",
     "output_type": "error",
     "traceback": [
      "\u001b[1;31m---------------------------------------------------------------------------\u001b[0m",
      "\u001b[1;31mNameError\u001b[0m                                 Traceback (most recent call last)",
      "\u001b[1;32m<ipython-input-39-9347ed57bb7b>\u001b[0m in \u001b[0;36m<module>\u001b[1;34m\u001b[0m\n\u001b[1;32m----> 1\u001b[1;33m \u001b[0mc1\u001b[0m\u001b[1;33m.\u001b[0m\u001b[0mpi\u001b[0m\u001b[1;33m\u001b[0m\u001b[1;33m\u001b[0m\u001b[0m\n\u001b[0m",
      "\u001b[1;31mNameError\u001b[0m: name 'c1' is not defined"
     ]
    }
   ],
   "source": []
  },
  {
   "cell_type": "code",
   "execution_count": null,
   "metadata": {},
   "outputs": [],
   "source": []
  }
 ],
 "metadata": {
  "kernelspec": {
   "display_name": "Python 3",
   "language": "python",
   "name": "python3"
  },
  "language_info": {
   "codemirror_mode": {
    "name": "ipython",
    "version": 3
   },
   "file_extension": ".py",
   "mimetype": "text/x-python",
   "name": "python",
   "nbconvert_exporter": "python",
   "pygments_lexer": "ipython3",
   "version": "3.8.3"
  }
 },
 "nbformat": 4,
 "nbformat_minor": 4
}
