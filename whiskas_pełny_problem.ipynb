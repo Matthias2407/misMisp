{
 "cells": [
  {
   "cell_type": "code",
   "execution_count": 50,
   "metadata": {},
   "outputs": [
    {
     "name": "stdout",
     "output_type": "stream",
     "text": [
      "Status: Optimal\n",
      "Ingr_BEEF = 30.0\n",
      "Ingr_CHICKEN = 30.0\n",
      "Ingr_GEL = 0.0\n",
      "Ingr_MUTTON = 0.0\n",
      "Ingr_RICE = 0.0\n",
      "Ingr_TUNA = 40.0\n",
      "Ingr_WHEAT = 0.0\n",
      "Końcowy produkt będzie kosztować 3.11 będzie miał w składzie Beef:30.0%, Chicken:30.0%, Gel:0.0%, Mutton:0.0%, Rice:0.0%, Tuna:40.0%, Wheat:0.0%, \n"
     ]
    }
   ],
   "source": [
    "from pulp import *\n",
    "\n",
    "#składniki\n",
    "Ingredients = ['CHICKEN', 'BEEF', 'MUTTON', 'RICE', 'WHEAT', 'GEL', 'TUNA']\n",
    "costs = {'CHICKEN': 0.013, #użycie słownika\n",
    "         'BEEF': 0.08, \n",
    "         'MUTTON': 0.010, \n",
    "         'RICE': 0.002, \n",
    "         'WHEAT': 0.005, \n",
    "         'GEL': 0.001,\n",
    "         'TUNA':0.008}\n",
    "proteinPercent = {'CHICKEN': 0.100, \n",
    "                  'BEEF': 0.200, \n",
    "                  'MUTTON': 0.150, \n",
    "                  'RICE': 0.000, \n",
    "                  'WHEAT': 0.040, \n",
    "                  'GEL': 0.000,\n",
    "                  'TUNA': 0.230}\n",
    "fatPercent = {'CHICKEN': 0.080, \n",
    "              'BEEF': 0.100, \n",
    "              'MUTTON': 0.100, \n",
    "              'RICE': 0.010, \n",
    "              'WHEAT': 0.010, \n",
    "              'GEL': 0.000,\n",
    "              'TUNA':0.015}\n",
    "fibrePercent = {'CHICKEN': 0.001, \n",
    "                'BEEF': 0.005, \n",
    "                'MUTTON': 0.003, \n",
    "                'RICE': 0.100, \n",
    "                'WHEAT': 0.150, \n",
    "                'GEL': 0.000,\n",
    "                'TUNA': 0.000}\n",
    "saltPercent = {'CHICKEN': 0.006, \n",
    "               'BEEF': 0.006, \n",
    "               'MUTTON': 0.009, \n",
    "               'RICE': 0.002, \n",
    "               'WHEAT': 0.008, \n",
    "               'GEL': 0.000,\n",
    "               'TUNA': 0.001}\n",
    "bUg = {        'CHICKEN': 0.3, #miligramy wit b na 100g\n",
    "               'BEEF': 2.6, \n",
    "               'MUTTON': 2.6, \n",
    "               'RICE': 0, \n",
    "               'WHEAT': 0, \n",
    "               'GEL': 0.000,\n",
    "               'TUNA': 10.8}\n",
    "#tworzymy problem\n",
    "prob = LpProblem(\"The Whiskas Problem\",LpMinimize)\n",
    "#utworzenie słownika zmiennych\n",
    "ingredient_vars = LpVariable.dicts(\"Ingr\",Ingredients,0) #tworzymy słownik składników\n",
    "#Cel\n",
    "prob += lpSum([costs[i]*ingredient_vars[i] for i in Ingredients]), \"Total Cost of Ingredients per can\" #wykorzystujemy dwa słowniki o tych samych kluczach do łatwego wymnażania\n",
    "#Ograniczenia\n",
    "prob += lpSum([ingredient_vars[i] for i in Ingredients]) == 100, \"PercentagesSum\"\n",
    "prob += lpSum([proteinPercent[i] * ingredient_vars[i] for i in Ingredients]) >= 8.0, \"ProteinRequirement\"\n",
    "prob += lpSum([fatPercent[i] * ingredient_vars[i] for i in Ingredients]) >= 6.0, \"FatRequirement\"\n",
    "prob += lpSum([fibrePercent[i] * ingredient_vars[i] for i in Ingredients]) <= 2.0, \"FibreRequirement\"\n",
    "prob += lpSum([saltPercent[i] * ingredient_vars[i] for i in Ingredients]) <= 0.4, \"SaltRequirement\"\n",
    "prob += lpSum([bUg[i] * ingredient_vars[i] for i in Ingredients]) >=0.8, \"VitaminBRequirement\"\n",
    "#do pliku\n",
    "prob.writeLP(\"WhiskasModel.lp\")\n",
    "#rozwiązujemy problem:\n",
    "prob.solve()\n",
    "print(\"Status:\", LpStatus[prob.status])\n",
    "#otrzymane wartości:\n",
    "for v in prob.variables():\n",
    "    print(v.name, \"=\", v.varValue)\n",
    "    \n",
    "wiadomosc=\"Końcowy produkt będzie kosztować \"+str(value(prob.objective))+\" będzie miał w składzie \"\n",
    "for v in prob.variables():\n",
    "    wiadomosc+=((v.name[5:]).lower()).capitalize()\n",
    "    wiadomosc+=\":\"+str(v.varValue)+\"%, \"\n",
    "print(wiadomosc)"
   ]
  },
  {
   "cell_type": "code",
   "execution_count": null,
   "metadata": {},
   "outputs": [],
   "source": []
  },
  {
   "cell_type": "code",
   "execution_count": null,
   "metadata": {},
   "outputs": [],
   "source": []
  }
 ],
 "metadata": {
  "kernelspec": {
   "display_name": "Python 3",
   "language": "python",
   "name": "python3"
  },
  "language_info": {
   "codemirror_mode": {
    "name": "ipython",
    "version": 3
   },
   "file_extension": ".py",
   "mimetype": "text/x-python",
   "name": "python",
   "nbconvert_exporter": "python",
   "pygments_lexer": "ipython3",
   "version": "3.8.3"
  }
 },
 "nbformat": 4,
 "nbformat_minor": 4
}
