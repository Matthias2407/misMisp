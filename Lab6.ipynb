{
 "cells": [
  {
   "cell_type": "code",
   "execution_count": 75,
   "metadata": {},
   "outputs": [
    {
     "name": "stdout",
     "output_type": "stream",
     "text": [
      "Status: Optimal\n",
      "workers_('Ania',_'czw') = 1\n",
      "workers_('Ania',_'pon') = 1\n",
      "workers_('Ania',_'pt') = 1\n",
      "workers_('Ania',_'sro') = 0\n",
      "workers_('Ania',_'wto') = 0\n",
      "workers_('Olaf',_'czw') = 0\n",
      "workers_('Olaf',_'pon') = 1\n",
      "workers_('Olaf',_'pt') = 1\n",
      "workers_('Olaf',_'sro') = 0\n",
      "workers_('Olaf',_'wto') = 1\n",
      "workers_('Piotr',_'czw') = 0\n",
      "workers_('Piotr',_'pon') = 1\n",
      "workers_('Piotr',_'pt') = 1\n",
      "workers_('Piotr',_'sro') = 0\n",
      "workers_('Piotr',_'wto') = 0\n",
      "workers_('Stefan',_'czw') = 0\n",
      "workers_('Stefan',_'pon') = 1\n",
      "workers_('Stefan',_'pt') = 0\n",
      "workers_('Stefan',_'sro') = 0\n",
      "workers_('Stefan',_'wto') = 1\n",
      "Tygodniowy koszt wynosi:  1448 zl\n"
     ]
    }
   ],
   "source": [
    "from pulp import *\n",
    "\n",
    "workers=['Ania', 'Stefan', 'Olaf', 'Piotr']\n",
    "\n",
    "days=['pon', 'wto', 'sro', 'czw','pt']\n",
    "\n",
    "\n",
    "\n",
    "costs={'Ania': 8*18, #stawka dniowa\n",
    "       'Stefan':8*17,\n",
    "        'Olaf':8*19,\n",
    "       'Piotr':8*18\n",
    "      }\n",
    "\n",
    "max_days={'Ania': 3, #liczba dni w tygodniu jaką może pracować dany pracownik\n",
    "       'Stefan':3,\n",
    "        'Olaf':3,\n",
    "       'Piotr':2\n",
    "      }\n",
    "\n",
    "workers_per_day={'pon':4,\n",
    "    'wto':2,\n",
    "    'sro':0,\n",
    "    'czw':1,\n",
    "    'pt':3        \n",
    "} #liczba pracowników wymagana na dany dzień\n",
    "\n",
    "day_worker_combinations=set() #wszystkie możliwe kombinacje dzień+pracownik\n",
    "for w in workers:\n",
    "    for d in days:\n",
    "        day_worker_combinations.add((w,d))\n",
    "        \n",
    "        \n",
    "\n",
    "        \n",
    "prob=LpProblem(\"Schedule\", LpMinimize)\n",
    "workers_vars = LpVariable.dicts(\"workers\",day_worker_combinations,0,1,LpInteger)\n",
    "#cel\n",
    "prob+=lpSum(costs[d[0]]*workers_vars[d] for d in day_worker_combinations) #stawka*ilość przepracowanych dni dla wszystkich pracowników\n",
    "#ograniczenia\n",
    "for d in days: #minimalna liczba pracowników na każdy dzień\n",
    "    prob+=lpSum(workers_vars[(w,d)] for w in workers)>=workers_per_day[d],\"workers_for_%s\"%d\n",
    "\n",
    "for w in workers:#maksymalna liczba dni w tygodniu dla każdego pracownika \n",
    "    prob+=lpSum(workers_vars[(w,d)] for d in days)<=max_days[w], \"max_days_for_%s\"%w\n",
    "\n",
    "\n",
    "prob.writeLP(\"workers.lp\")\n",
    "prob.solve()\n",
    "print(\"Status:\", LpStatus[prob.status])\n",
    "\n",
    "\n",
    "\n",
    "for v in prob.variables():\n",
    "    print(v.name, \"=\", v.varValue)\n",
    "\n",
    "print(\"Tygodniowy koszt wynosi: \",str(value(prob.objective)),\"zl\")"
   ]
  },
  {
   "cell_type": "code",
   "execution_count": null,
   "metadata": {},
   "outputs": [],
   "source": []
  }
 ],
 "metadata": {
  "kernelspec": {
   "display_name": "Python 3",
   "language": "python",
   "name": "python3"
  },
  "language_info": {
   "codemirror_mode": {
    "name": "ipython",
    "version": 3
   },
   "file_extension": ".py",
   "mimetype": "text/x-python",
   "name": "python",
   "nbconvert_exporter": "python",
   "pygments_lexer": "ipython3",
   "version": "3.8.3"
  }
 },
 "nbformat": 4,
 "nbformat_minor": 4
}
