{
 "cells": [
  {
   "cell_type": "markdown",
   "metadata": {},
   "source": [
    "# Zajęcia 1\n",
    "Zapoznanie z podstawami języka Python"
   ]
  },
  {
   "cell_type": "code",
   "execution_count": null,
   "metadata": {
    "colab": {
     "base_uri": "https://localhost:8080/",
     "height": 34
    },
    "executionInfo": {
     "elapsed": 1029,
     "status": "ok",
     "timestamp": 1602258733017,
     "user": {
      "displayName": "Maciej Misiewicz",
      "photoUrl": "",
      "userId": "08847676441399116051"
     },
     "user_tz": -120
    },
    "id": "gy0k5taTD2w9",
    "outputId": "8bdc23ce-a979-4639-cdaa-9f44553347c0"
   },
   "outputs": [
    {
     "name": "stdout",
     "output_type": "stream",
     "text": [
      "6\n"
     ]
    }
   ],
   "source": [
    "# komentarz\n",
    "\n",
    "# if\n",
    "\n",
    "wielkosc = 6\n",
    "\n",
    "print(wielkosc)"
   ]
  },
  {
   "cell_type": "code",
   "execution_count": null,
   "metadata": {
    "id": "STKli8LHD2xC",
    "outputId": "67b30869-78dd-4bf3-dbec-76b7a55b76a2"
   },
   "outputs": [
    {
     "name": "stdout",
     "output_type": "stream",
     "text": [
      "w sam raz\n"
     ]
    }
   ],
   "source": [
    "if wielkosc >6:\n",
    "    print(\"ale duze\")\n",
    "elif wielkosc < 3:\n",
    "    print(\"malutkie\")\n",
    "    print('franek')\n",
    "else:\n",
    "    print(\"w sam raz\")"
   ]
  },
  {
   "cell_type": "code",
   "execution_count": null,
   "metadata": {
    "id": "m7IuxlybD2xF",
    "outputId": "e97c2dbf-30db-4985-f40e-d9e46c167303"
   },
   "outputs": [
    {
     "name": "stdout",
     "output_type": "stream",
     "text": [
      "['Ania', 'Zosia', 'Kasia', 'Franek']\n"
     ]
    }
   ],
   "source": [
    "studenci = [\"Ania\", \"Zosia\", \"Kasia\", \"Franek\"]\n",
    "\n",
    "print(studenci)"
   ]
  },
  {
   "cell_type": "code",
   "execution_count": null,
   "metadata": {
    "id": "-3hXwks3D2xI",
    "outputId": "c4bdaca7-4093-4727-94d0-b14f4ed8d031"
   },
   "outputs": [
    {
     "data": {
      "text/plain": [
       "'Ania'"
      ]
     },
     "execution_count": 16,
     "metadata": {
      "tags": []
     },
     "output_type": "execute_result"
    }
   ],
   "source": [
    "studenci[0][1]"
   ]
  },
  {
   "cell_type": "code",
   "execution_count": null,
   "metadata": {
    "id": "gwdnA8InD2xL",
    "outputId": "f5e105e2-f3f8-4403-fbef-05e117f63902",
    "scrolled": true
   },
   "outputs": [
    {
     "name": "stdout",
     "output_type": "stream",
     "text": [
      "student ma na imie: Ania\n",
      "student ma na imie: Zosia\n",
      "student ma na imie: Kasia\n",
      "student ma na imie: Franek\n",
      "Ania\n",
      "student na poczatku alfabetu\n",
      "Zosia\n",
      "Kasia\n",
      "Franek\n"
     ]
    }
   ],
   "source": [
    "for student in studenci:\n",
    "    print(\"student ma na imie:\", student)\n",
    "    \n",
    "for student in studenci:\n",
    "    print(student)\n",
    "    if student[0]==\"A\":\n",
    "        print(\"student na poczatku alfabetu\")"
   ]
  },
  {
   "cell_type": "code",
   "execution_count": null,
   "metadata": {
    "id": "AwqdNLOPD2xN",
    "outputId": "d6562038-8cde-48e5-bab2-631c5d815124"
   },
   "outputs": [
    {
     "name": "stdout",
     "output_type": "stream",
     "text": [
      "student Ania ma numer 0\n",
      "student Zosia ma numer 1\n",
      "student Kasia ma numer 2\n",
      "student Franek ma numer 3\n"
     ]
    }
   ],
   "source": [
    "for numer, student in enumerate(studenci):\n",
    "    print(\"student {} ma numer {}\".format(student,numer))"
   ]
  },
  {
   "cell_type": "code",
   "execution_count": null,
   "metadata": {
    "id": "yrKr-AaOD2xP",
    "outputId": "997d2c7f-1906-4cc8-d77d-2852a27ed9e9"
   },
   "outputs": [
    {
     "name": "stdout",
     "output_type": "stream",
     "text": [
      "student Ania ma numer 0 i ocenę 2\n",
      "student Zosia ma numer 1 i ocenę 2\n",
      "student Kasia ma numer 2 i ocenę 5\n",
      "student Franek ma numer 3 i ocenę 3\n",
      "----------------------------------------\n",
      "student Ania ma numer 0 i ocenę 2\n",
      "student Zosia ma numer 1 i ocenę 2\n",
      "student Kasia ma numer 2 i ocenę 5\n",
      "student Franek ma numer 3 i ocenę 3\n"
     ]
    }
   ],
   "source": [
    "oceny = [2,2,5,3]\n",
    "\n",
    "for numer, student in enumerate(studenci):\n",
    "    print(\"student {} ma numer {} i ocenę {}\".format(student,numer,oceny[numer]))\n",
    "\n",
    "print(\"--\"*20)    \n",
    "for number, (student, ocena) in enumerate(zip(studenci,oceny)):\n",
    "    print(\"student {} ma numer {} i ocenę {}\".format(student,number,ocena))"
   ]
  },
  {
   "cell_type": "code",
   "execution_count": null,
   "metadata": {
    "id": "sMA53w9aD2xR"
   },
   "outputs": [],
   "source": [
    "trzy_elementy= [1,2,3]\n",
    "pierwszy,drugi,trzeci= trzy_elementy"
   ]
  },
  {
   "cell_type": "code",
   "execution_count": null,
   "metadata": {
    "id": "J0Ah1316D2xT",
    "outputId": "ee2268c1-a5fa-426c-bb16-517277903f4c"
   },
   "outputs": [
    {
     "name": "stdout",
     "output_type": "stream",
     "text": [
      "1\n",
      "2\n",
      "3\n",
      "4\n",
      "5\n",
      "6\n",
      "7\n",
      "8\n",
      "9\n"
     ]
    }
   ],
   "source": [
    "n = 1\n",
    "\n",
    "while(n < 10):\n",
    "    print(n)\n",
    "    n+=1"
   ]
  },
  {
   "cell_type": "code",
   "execution_count": null,
   "metadata": {
    "id": "ALfMRa8oD2xV"
   },
   "outputs": [],
   "source": [
    "def dodaj_dwa(liczba):\n",
    "    return liczba+2\n",
    "\n",
    "def dodaj_trzy(liczba):\n",
    "    return liczba+3\n",
    "\n",
    "def dodaj_dwie_liczby(liczba1,liczba2)\n",
    "    return liczba1+liczba2\n",
    "\n",
    "\n",
    "dodaj_cztery = lambda liczba:liczba+4"
   ]
  },
  {
   "cell_type": "code",
   "execution_count": null,
   "metadata": {
    "id": "u3t8XJ-sD2xX",
    "outputId": "f6b0654b-540e-4260-e0e2-a7154cc996dc"
   },
   "outputs": [
    {
     "name": "stdout",
     "output_type": "stream",
     "text": [
      "12\n",
      "13\n",
      "14\n"
     ]
    }
   ],
   "source": [
    "funkcje=[dodaj_dwa,dodaj_trzy,dodaj_cztery]\n",
    "\n",
    "jakis_nr= 10\n",
    "\n",
    "for funkcja in funkcje:\n",
    "    print(funkcja(jakis_nr))"
   ]
  },
  {
   "cell_type": "code",
   "execution_count": null,
   "metadata": {
    "colab": {
     "base_uri": "https://localhost:8080/",
     "height": 197
    },
    "executionInfo": {
     "elapsed": 772,
     "status": "error",
     "timestamp": 1602261170800,
     "user": {
      "displayName": "Maciej Misiewicz",
      "photoUrl": "",
      "userId": "08847676441399116051"
     },
     "user_tz": -120
    },
    "id": "i7wCezp4D2xZ",
    "outputId": "cc01b18c-cbe1-459f-fc53-b55b8c8d2825"
   },
   "outputs": [
    {
     "ename": "NameError",
     "evalue": "ignored",
     "output_type": "error",
     "traceback": [
      "\u001b[0;31m---------------------------------------------------------------------------\u001b[0m",
      "\u001b[0;31mNameError\u001b[0m                                 Traceback (most recent call last)",
      "\u001b[0;32m<ipython-input-48-be7cdc6d248c>\u001b[0m in \u001b[0;36m<module>\u001b[0;34m()\u001b[0m\n\u001b[0;32m----> 1\u001b[0;31m \u001b[0mstudenci\u001b[0m\u001b[0;34m[\u001b[0m\u001b[0;36m0\u001b[0m\u001b[0;34m]\u001b[0m\u001b[0;34m\u001b[0m\u001b[0;34m\u001b[0m\u001b[0m\n\u001b[0m\u001b[1;32m      2\u001b[0m \u001b[0mstudenci\u001b[0m\u001b[0;34m[\u001b[0m\u001b[0;36m1\u001b[0m\u001b[0;34m:\u001b[0m\u001b[0;34m]\u001b[0m\u001b[0;34m\u001b[0m\u001b[0;34m\u001b[0m\u001b[0m\n\u001b[1;32m      3\u001b[0m \u001b[0mstudenci\u001b[0m\u001b[0;34m[\u001b[0m\u001b[0;34m:\u001b[0m\u001b[0;34m-\u001b[0m\u001b[0;36m1\u001b[0m\u001b[0;34m]\u001b[0m\u001b[0;34m\u001b[0m\u001b[0;34m\u001b[0m\u001b[0m\n",
      "\u001b[0;31mNameError\u001b[0m: name 'studenci' is not defined"
     ]
    }
   ],
   "source": [
    "studenci[0]\n",
    "studenci[1:]\n",
    "studenci[:-1]"
   ]
  },
  {
   "cell_type": "markdown",
   "metadata": {},
   "source": [
    "## Zadanie 1\n",
    "\n",
    "Celem było wyprintowanie zajęć odpowidających dniom od środy do piątku.\n",
    "\n",
    "Kod wykorzystuje pętlę `for` aby iterować przez utworzone krotki, sprawdzając instrukcją `if-in` czy dana krotka ma zostać wyprintowana.\n",
    "Ponieważ krotki są \"zużywane\", konieczne jest utworzenie nowej listy krotek dla drugiej pętli `for`."
   ]
  },
  {
   "cell_type": "code",
   "execution_count": null,
   "metadata": {
    "colab": {
     "base_uri": "https://localhost:8080/",
     "height": 153
    },
    "executionInfo": {
     "elapsed": 805,
     "status": "ok",
     "timestamp": 1602263010668,
     "user": {
      "displayName": "Maciej Misiewicz",
      "photoUrl": "",
      "userId": "08847676441399116051"
     },
     "user_tz": -120
    },
    "id": "lKovBypgD2xa",
    "outputId": "34341647-7b87-4e64-a32f-5455f3e65023"
   },
   "outputs": [
    {
     "name": "stdout",
     "output_type": "stream",
     "text": [
      "relax\n",
      "mispy\n",
      "piateczek\n",
      "round 2\n",
      "wf\n",
      "informatyka\n",
      "mispy\n",
      "piateczek\n"
     ]
    }
   ],
   "source": [
    "#### challenge 0.1\n",
    "\n",
    "zajecia = [\"wf\",\"informatyka\",\"relax\",\"mispy\",\"piateczek\"]\n",
    "\n",
    "dnityg= [\"Pon\",\"Wto\",\"Sro\",\"Czwar\",\"Pio\"]\n",
    "\n",
    "# wyprintuj zajecia od srody do piatku\n",
    "listazajec=zip(zajecia,dnityg)\n",
    "listazajec2=zip(zajecia,dnityg)\n",
    "\n",
    "for zajecia, dnityg in listazajec:\n",
    "  if dnityg in (\"Sro\",\"Czwar\",\"Pio\"): \n",
    "    print(zajecia)\n",
    "\n",
    "print(\"round 2\")\n",
    "#wyprintuj oprocz srody\n",
    "for zajecia, dnityg in listazajec2:\n",
    "  if dnityg not in (\"Sro\"): \n",
    "    print(zajecia)"
   ]
  },
  {
   "cell_type": "markdown",
   "metadata": {},
   "source": [
    "## Zadanie 2\n",
    "\n",
    "Celem było stworzenie funkcji zwracającej ilość zajęć danego dnia i wykorzystane jej do posortowania dni w kolejności od najbardziej \"zajętych\".\n",
    "\n",
    "Funkcja `ile_zajec(dzien)` korzysta z funkcji `index()` aby ustalić jaki index tablicy odpowiada danemu dniu tygodnia, a nastepnie sprawdza długość tablicy (korzystając z `len()`) zajęć znajdujacej się pod tym indeksem w tablicy `zajecia`.\n",
    "\n",
    "Sortowanie odbywa się z uzyciem funkcji `sorted()` z podaneim własnego klucza.\n",
    "\n",
    "\n",
    "## Zadanie 3\n",
    "\n",
    "Celem było stworzenie funkcji która podaje ilosć wystąpień ciągu znaków \"misp\" w danym dniu.\n",
    "\n",
    "Funkcja `ile_misp(dzien)` zwraca ilość wystąpień ciągu znaków \"misp\" w tablicy `zajecia`, korzystając z`sum()` i iterując po kolejnych zajęciach w danym dniu. Wartość ta jest wykorzystywana jako klucz przy wyszukiwaniu dnia z najwiekszą liczbą takich wystąpień."
   ]
  },
  {
   "cell_type": "code",
   "execution_count": null,
   "metadata": {
    "colab": {
     "base_uri": "https://localhost:8080/",
     "height": 68
    },
    "executionInfo": {
     "elapsed": 1517,
     "status": "ok",
     "timestamp": 1602262331756,
     "user": {
      "displayName": "Maciej Misiewicz",
      "photoUrl": "",
      "userId": "08847676441399116051"
     },
     "user_tz": -120
    },
    "id": "dIgC5k2rD2xc",
    "outputId": "76750366-dbcf-4fe9-83d3-7ea7f250e202"
   },
   "outputs": [
    {
     "name": "stdout",
     "output_type": "stream",
     "text": [
      "2\n",
      "['Pon', 'Wto', 'Sro', 'Czwar', 'Pio']\n",
      "Pio\n"
     ]
    }
   ],
   "source": [
    "#### challenge 0.2\n",
    "\n",
    "zajecia = [[\"wf\"],\n",
    "           [\"informatyka\", \"nauka czytania\"],\n",
    "           [\"relax\", \"jedzenie\"],\n",
    "           [\"mispy\",\"mispy w domu\"],\n",
    "           [\"piateczek\", \"praca domowa z mispow\", \"Ilovemispy\", \"mispy w czasie snu\"]\n",
    "          ]\n",
    "\n",
    "dnityg= [\"Pon\",\"Wto\",\"Sro\",\"Czwar\",\"Pio\"]\n",
    "\n",
    "# zdefiniuj funkcje ktora poda ile jest zajec danego dnia\n",
    "# lista_zajec_z_dnia -> ile ich jest\n",
    "def ile_zajec(dzien):\n",
    "  return len(zajecia[dnityg.index(dzien)])\n",
    "\n",
    "\n",
    "print(ile_zajec(\"Sro\"))\n",
    "\n",
    "# po\n",
    "# posortuj dni po najbardziej zajetych\n",
    "print(sorted(dnityg, key=ile_zajec))\n",
    "\n",
    "#### challenge 0.3\n",
    "\n",
    "#napisz program ktory zdajdzie dzien z najwieksza iloscia mispow\n",
    "def ile_misp(dzien):\n",
    "  return sum('misp' in s for s in zajecia[dnityg.index(dzien)])\n",
    "\n",
    "print(max(dnityg, key=ile_misp))"
   ]
  },
  {
   "cell_type": "code",
   "execution_count": null,
   "metadata": {
    "id": "xx1T95fhD2xe",
    "outputId": "b4c239fd-511b-4470-f372-2705f450b671"
   },
   "outputs": [
    {
     "data": {
      "text/plain": [
       "[(1, '11'), (0, '22'), (2, '33'), (3, '100')]"
      ]
     },
     "execution_count": 51,
     "metadata": {
      "tags": []
     },
     "output_type": "execute_result"
    }
   ],
   "source": [
    "len(zajecia)\n",
    "\n",
    "zajecia[4][1]\n",
    "\n",
    "\"Ma\" in \"MojaMaMa\"\n",
    "\n",
    "liczby=[\"22\",\"11\",\"33\",\"100\"]\n",
    "liczby_i_nazwy= [(\"22\",\"dwadziescia dwa\"),\n",
    "                 (\"11\",\"jedenascie\"),\n",
    "        (\"33\",\"trzydziesci trzy\"),(\"100\",\"sto\")]\n",
    "sorted(liczby)\n",
    "\n",
    "sorted(liczby, key=int)\n",
    "\n",
    "liczby_kolejnosc= enumerate(liczby)\n",
    "\n",
    "def czy_jest_jeden(liczba):\n",
    "\n",
    "    if \"1\" in liczba:\n",
    "        return 1\n",
    "    else:\n",
    "        return 0\n",
    "def na_liczbe(krotka):\n",
    "         return int(krotka[0])\n",
    "def na_liczbe_index(krotka):\n",
    "         return int(krotka[1])    \n",
    "sorted(liczby, key=czy_jest_jeden)\n",
    "         \n",
    "sorted(liczby_i_nazwy,key=na_liczbe)\n",
    "\n",
    "sorted(liczby_kolejnosc,key=na_liczbe_index)"
   ]
  },
  {
   "cell_type": "code",
   "execution_count": null,
   "metadata": {
    "id": "eIm7kq_KD2xg",
    "outputId": "7c9e3e05-1049-4d9a-e27a-2209aa277705"
   },
   "outputs": [
    {
     "data": {
      "text/plain": [
       "<enumerate at 0x7f5efea012d0>"
      ]
     },
     "execution_count": 48,
     "metadata": {
      "tags": []
     },
     "output_type": "execute_result"
    }
   ],
   "source": [
    "sorted(liczby_kolejnosc,key=)"
   ]
  },
  {
   "cell_type": "code",
   "execution_count": null,
   "metadata": {
    "id": "nQv5SGtCD2xh"
   },
   "outputs": [],
   "source": []
  }
 ],
 "metadata": {
  "colab": {
   "collapsed_sections": [],
   "name": "Kopia notatnika podstawy_python_jupyter.ipynb",
   "provenance": [
    {
     "file_id": "1NiG5GRewf5d-HAwZm_JHB5gVWKOUUFjJ",
     "timestamp": 1602263346231
    }
   ]
  },
  "kernelspec": {
   "display_name": "Python 3",
   "language": "python",
   "name": "python3"
  },
  "language_info": {
   "codemirror_mode": {
    "name": "ipython",
    "version": 3
   },
   "file_extension": ".py",
   "mimetype": "text/x-python",
   "name": "python",
   "nbconvert_exporter": "python",
   "pygments_lexer": "ipython3",
   "version": "3.8.3"
  }
 },
 "nbformat": 4,
 "nbformat_minor": 1
}
