{
 "cells": [
  {
   "cell_type": "markdown",
   "metadata": {},
   "source": [
    "Tabela *Ingredients* definiuje nazwy składników które później służa jako klucze, na przykład dla słowników:\n",
    "\n",
    "- *costs*\n",
    "- *proteinPercent*\n",
    "- *fatPercent*\n",
    "- *fibrePercent*\n",
    "- *saltPercent*\n",
    "\n",
    "___\n",
    "\n",
    "```\n",
    "prob = LpProblem(\"The Whiskas Problem\",LpMinimize)\n",
    "\n",
    "ingredient_vars = LpVariable.dicts(\"Ingr\",Ingredients,0)\n",
    "```\n",
    " Ta część kodu definiuje problem i korzysta z *Ingredients* aby utworzyć odpowiednie ciągłe zmienne decyzyjne.\n",
    " \n",
    " ___\n",
    " \n",
    " ```\n",
    " prob += lpSum([costs[i]*ingredient_vars[i] for i in Ingredients]), \"Total Cost of Ingredients per can\"\n",
    " ```\n",
    " \n",
    " Definiuje funkcję celu korzystając ze wcześniej utworzonych zmiennych oraz słownika *costs*. W podobny sposób kod:\n",
    " ```\n",
    "prob += lpSum([ingredient_vars[i] for i in Ingredients]) == 100, \"PercentagesSum\"\n",
    "prob += lpSum([proteinPercent[i] * ingredient_vars[i] for i in Ingredients]) >= 8.0, \"ProteinRequirement\"\n",
    "prob += lpSum([fatPercent[i] * ingredient_vars[i] for i in Ingredients]) >= 6.0, \"FatRequirement\"\n",
    "prob += lpSum([fibrePercent[i] * ingredient_vars[i] for i in Ingredients]) <= 2.0, \"FibreRequirement\"\n",
    "prob += lpSum([saltPercent[i] * ingredient_vars[i] for i in Ingredients]) <= 0.4, \"SaltRequirement\"\n",
    " ```\n",
    " Definuje ograniczenia nałożone na rozwiązanie.\n",
    " Dalszy kod zapisuje problem, rozwiązuje go komendą\n",
    " `prob.solve()`\n",
    " i wyświetla otrzymane wartości zmiennych decyzyjnych."
   ]
  },
  {
   "cell_type": "code",
   "execution_count": 1,
   "metadata": {},
   "outputs": [
    {
     "ename": "ModuleNotFoundError",
     "evalue": "No module named 'pulp'",
     "output_type": "error",
     "traceback": [
      "\u001b[1;31m---------------------------------------------------------------------------\u001b[0m",
      "\u001b[1;31mModuleNotFoundError\u001b[0m                       Traceback (most recent call last)",
      "\u001b[1;32m<ipython-input-1-f154f0694995>\u001b[0m in \u001b[0;36m<module>\u001b[1;34m\u001b[0m\n\u001b[1;32m----> 1\u001b[1;33m \u001b[1;32mfrom\u001b[0m \u001b[0mpulp\u001b[0m \u001b[1;32mimport\u001b[0m \u001b[1;33m*\u001b[0m\u001b[1;33m\u001b[0m\u001b[1;33m\u001b[0m\u001b[0m\n\u001b[0m\u001b[0;32m      2\u001b[0m \u001b[1;33m\u001b[0m\u001b[0m\n\u001b[0;32m      3\u001b[0m \u001b[1;31m#składniki\u001b[0m\u001b[1;33m\u001b[0m\u001b[1;33m\u001b[0m\u001b[1;33m\u001b[0m\u001b[0m\n\u001b[0;32m      4\u001b[0m \u001b[0mIngredients\u001b[0m \u001b[1;33m=\u001b[0m \u001b[1;33m[\u001b[0m\u001b[1;34m'CHICKEN'\u001b[0m\u001b[1;33m,\u001b[0m \u001b[1;34m'BEEF'\u001b[0m\u001b[1;33m,\u001b[0m \u001b[1;34m'MUTTON'\u001b[0m\u001b[1;33m,\u001b[0m \u001b[1;34m'RICE'\u001b[0m\u001b[1;33m,\u001b[0m \u001b[1;34m'WHEAT'\u001b[0m\u001b[1;33m,\u001b[0m \u001b[1;34m'GEL'\u001b[0m\u001b[1;33m]\u001b[0m\u001b[1;33m\u001b[0m\u001b[1;33m\u001b[0m\u001b[0m\n\u001b[0;32m      5\u001b[0m costs = {'CHICKEN': 0.013, #użycie słownika\n",
      "\u001b[1;31mModuleNotFoundError\u001b[0m: No module named 'pulp'"
     ]
    }
   ],
   "source": [
    "from pulp import *\n",
    "\n",
    "#składniki\n",
    "Ingredients = ['CHICKEN', 'BEEF', 'MUTTON', 'RICE', 'WHEAT', 'GEL']\n",
    "costs = {'CHICKEN': 0.013, #użycie słownika\n",
    "         'BEEF': 0.008, \n",
    "         'MUTTON': 0.010, \n",
    "         'RICE': 0.002, \n",
    "         'WHEAT': 0.005, \n",
    "         'GEL': 0.001}\n",
    "proteinPercent = {'CHICKEN': 0.100, \n",
    "                  'BEEF': 0.200, \n",
    "                  'MUTTON': 0.150, \n",
    "                  'RICE': 0.000, \n",
    "                  'WHEAT': 0.040, \n",
    "                  'GEL': 0.000}\n",
    "fatPercent = {'CHICKEN': 0.080, \n",
    "              'BEEF': 0.100, \n",
    "              'MUTTON': 0.110, \n",
    "              'RICE': 0.010, \n",
    "              'WHEAT': 0.010, \n",
    "              'GEL': 0.000}\n",
    "fibrePercent = {'CHICKEN': 0.001, \n",
    "                'BEEF': 0.005, \n",
    "                'MUTTON': 0.003, \n",
    "                'RICE': 0.100, \n",
    "                'WHEAT': 0.150, \n",
    "                'GEL': 0.000}\n",
    "saltPercent = {'CHICKEN': 0.002, \n",
    "               'BEEF': 0.005, \n",
    "               'MUTTON': 0.007, \n",
    "               'RICE': 0.002, \n",
    "               'WHEAT': 0.008, \n",
    "               'GEL': 0.000}\n",
    "#tworzymy problem\n",
    "prob = LpProblem(\"The Whiskas Problem\",LpMinimize)\n",
    "#utworzenie słownika zmiennych\n",
    "ingredient_vars = LpVariable.dicts(\"Ingr\",Ingredients,0) #tworzymy słownik składników\n",
    "#Cel\n",
    "prob += lpSum([costs[i]*ingredient_vars[i] for i in Ingredients]), \"Total Cost of Ingredients per can\" #wykorzystujemy dwa słowniki o tych samych kluczach do łatwego wymnażania\n",
    "#Ograniczenia\n",
    "prob += lpSum([ingredient_vars[i] for i in Ingredients]) == 100, \"PercentagesSum\"\n",
    "prob += lpSum([proteinPercent[i] * ingredient_vars[i] for i in Ingredients]) >= 8.0, \"ProteinRequirement\"\n",
    "prob += lpSum([fatPercent[i] * ingredient_vars[i] for i in Ingredients]) >= 6.0, \"FatRequirement\"\n",
    "prob += lpSum([fibrePercent[i] * ingredient_vars[i] for i in Ingredients]) <= 2.0, \"FibreRequirement\"\n",
    "prob += lpSum([saltPercent[i] * ingredient_vars[i] for i in Ingredients]) <= 0.4, \"SaltRequirement\"\n",
    "#do pliku\n",
    "prob.writeLP(\"WhiskasModel.lp\")\n",
    "#rozwiązujemy problem:\n",
    "prob.solve()\n",
    "print(\"Status:\", LpStatus[prob.status])\n",
    "#otrzymane wartości:\n",
    "for v in prob.variables():\n",
    "    print(v.name, \"=\", v.varValue)\n",
    "print(\"Cała poszka kosztuje:\", value(prob.objective))"
   ]
  },
  {
   "cell_type": "code",
   "execution_count": null,
   "metadata": {},
   "outputs": [],
   "source": []
  }
 ],
 "metadata": {
  "kernelspec": {
   "display_name": "Python 3",
   "language": "python",
   "name": "python3"
  },
  "language_info": {
   "codemirror_mode": {
    "name": "ipython",
    "version": 3
   },
   "file_extension": ".py",
   "mimetype": "text/x-python",
   "name": "python",
   "nbconvert_exporter": "python",
   "pygments_lexer": "ipython3",
   "version": "3.8.3"
  }
 },
 "nbformat": 4,
 "nbformat_minor": 4
}
