{
 "cells": [
  {
   "cell_type": "code",
   "execution_count": 31,
   "metadata": {},
   "outputs": [
    {
     "name": "stdout",
     "output_type": "stream",
     "text": [
      "Napiecie = 42.7429\n",
      "Maksymalny prad wyniesie: 3.6000036096256687A\n"
     ]
    }
   ],
   "source": [
    "from pulp import *\n",
    "\n",
    "#i1<=2 i2<=3 i3<=4 i4<=2 i5<=2\n",
    "r1=8.0\n",
    "r2=6.0\n",
    "r3=4.0\n",
    "r4=10.0\n",
    "r5=8.0\n",
    "\n",
    "r12=r1*r2/(r1+r2)\n",
    "g1=1/r1\n",
    "g2=1/r2\n",
    "r45=r4*r5/(r4+r5)\n",
    "rc=r12+r3+r45\n",
    "gc=1/rc\n",
    "r345=r3+r45\n",
    "g3=1/r3\n",
    "g4=1/r4\n",
    "g5=1/r5\n",
    "dzielnik345=r345/rc\n",
    "dzielnik45=r45/rc\n",
    "\n",
    "prob = LpProblem(\"MaxCurrent\",LpMaximize)\n",
    "#zmienne\n",
    "uc=LpVariable(\"Napiecie\",0,None,\"Continuous\") #napięcie na całym układzie\n",
    "\n",
    "prob+=uc*gc #wartość prądu: cel\n",
    "#ograniczenia\n",
    "prob+=(uc*(1-dzielnik345))*g1<=2, \"Prad I1\"\n",
    "prob+=(uc*(1-dzielnik345))*g2<=3, \"Prad I2\"\n",
    "prob+=(uc*(dzielnik345-dzielnik45))*g3<=4, \"Prad I3\"\n",
    "prob+=(uc*dzielnik45)*g4<=2, \"Prad I4\"\n",
    "prob+=(uc*dzielnik45)*g5<=2, \"Prad I5\"\n",
    "\n",
    "prob.writeLP(\"Curr.lp\")\n",
    "prob.solve()\n",
    "\n",
    "for v in prob.variables():\n",
    "    print(v.name, \"=\", v.varValue)\n",
    "\n",
    "print(\"Maksymalny prad wyniesie: \"+str(value(prob.objective))+\"A\")"
   ]
  },
  {
   "cell_type": "code",
   "execution_count": 76,
   "metadata": {},
   "outputs": [
    {
     "name": "stdout",
     "output_type": "stream",
     "text": [
      "Currents_1 = 3.9 mA\n",
      "Currents_2 = 1.9 mA\n",
      "Currents_3 = 1.9 mA\n",
      "Currents_4 = 1.9 mA\n",
      "Currents_5 = 3.9 mA\n",
      "Rezystor 1 = 1.5384615384615385 kOhm\n",
      "Rezystor 2 = 5.2631578947368425 kOhm\n",
      "Rezystor 3 = 2.1052631578947367 kOhm\n",
      "Rezystor 4 = 3.68421052631579 kOhm\n",
      "Rezystor 5 = 0.7692307692307693 kOhm\n",
      "Moc:75.0mW\n"
     ]
    }
   ],
   "source": [
    "from pulp import *\n",
    "\n",
    "rezystory=[\"1\",\"2\",\"3\",\"4\",\"5\"]\n",
    "napiecia={\"1\":6.0, \"2\":10.0, \"3\":4.0, \"4\":7.0, \"5\":3.0}\n",
    "prady={\"1\":4.0, \"2\":2.0, \"3\":2.0, \"4\":2.0, \"5\":4.0}\n",
    "delta_pradu=0.1\n",
    "\n",
    "\n",
    "prob = LpProblem(\"MinPower\",LpMinimize)\n",
    "\n",
    "current_vars = LpVariable.dicts(\"Currents\",prady,0)\n",
    "#cel\n",
    "prob+=lpSum([current_vars[i]*napiecia[i] for i in prady]) #moc jako iloczyn\n",
    "#ograniczenia\n",
    "for i in prady:\n",
    "    prob+=current_vars[i]<=prady[i]+delta_pradu\n",
    "    prob+=current_vars[i]>=prady[i]-delta_pradu\n",
    "\n",
    "prob.writeLP(\"Mostek.lp\")\n",
    "prob.solve()\n",
    "\n",
    "wartosci_rezystancji=dict()\n",
    "for v, u in zip(prob.variables(), napiecia):\n",
    "    print(v.name, \"=\", v.varValue,\"mA\")\n",
    "    wartosci_rezystancji[u]=(napiecia[u]/v.varValue)\n",
    "\n",
    "for r in wartosci_rezystancji:\n",
    "    print(\"Rezystor\",r, \"=\", wartosci_rezystancji[r], \"kOhm\")\n",
    "\n",
    "\n",
    "print(\"Moc:\"+str(value(prob.objective))+\"mW\")\n",
    "    "
   ]
  },
  {
   "cell_type": "code",
   "execution_count": null,
   "metadata": {},
   "outputs": [],
   "source": []
  }
 ],
 "metadata": {
  "kernelspec": {
   "display_name": "Python 3",
   "language": "python",
   "name": "python3"
  },
  "language_info": {
   "codemirror_mode": {
    "name": "ipython",
    "version": 3
   },
   "file_extension": ".py",
   "mimetype": "text/x-python",
   "name": "python",
   "nbconvert_exporter": "python",
   "pygments_lexer": "ipython3",
   "version": "3.8.3"
  }
 },
 "nbformat": 4,
 "nbformat_minor": 4
}
